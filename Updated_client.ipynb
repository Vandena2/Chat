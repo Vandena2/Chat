{
 "cells": [
  {
   "cell_type": "code",
   "execution_count": 1,
   "id": "b9334f0d-8691-438f-b459-35564f72fd38",
   "metadata": {},
   "outputs": [],
   "source": [
    "import sys\n",
    "from PyQt5.QtWidgets import QApplication, QMainWindow, QTextEdit, QLineEdit, QPushButton, QVBoxLayout, QWidget, QInputDialog\n",
    "from PyQt5.QtCore import QThread, pyqtSignal\n",
    "import socket"
   ]
  },
  {
   "cell_type": "code",
   "execution_count": 2,
   "id": "27e30896-d491-4b0e-a469-541ab4a6f648",
   "metadata": {},
   "outputs": [
    {
     "ename": "SystemExit",
     "evalue": "0",
     "output_type": "error",
     "traceback": [
      "An exception has occurred, use %tb to see the full traceback.\n",
      "\u001b[1;31mSystemExit\u001b[0m\u001b[1;31m:\u001b[0m 0\n"
     ]
    },
    {
     "name": "stderr",
     "output_type": "stream",
     "text": [
      "C:\\Users\\subha\\anaconda3\\Lib\\site-packages\\IPython\\core\\interactiveshell.py:3561: UserWarning: To exit: use 'exit', 'quit', or Ctrl-D.\n",
      "  warn(\"To exit: use 'exit', 'quit', or Ctrl-D.\", stacklevel=1)\n"
     ]
    }
   ],
   "source": [
    "\n",
    "class ClientThread(QThread):\n",
    "    message_received = pyqtSignal(str)\n",
    "\n",
    "    def __init__(self, username, host='localhost', port=12345):\n",
    "        super().__init__()\n",
    "        self.client_socket = socket.socket(socket.AF_INET, socket.SOCK_STREAM)\n",
    "        self.client_socket.connect((host, port))\n",
    "        self.client_socket.send(username.encode('utf-8'))\n",
    "        self.username = username\n",
    "    \n",
    "    def run(self):\n",
    "        while True:\n",
    "            try:\n",
    "                message = self.client_socket.recv(1024).decode('utf-8')\n",
    "                if message:\n",
    "                    self.message_received.emit(message)\n",
    "            except:\n",
    "                self.client_socket.close()\n",
    "                break\n",
    "    \n",
    "    def send_message(self, message):\n",
    "        self.client_socket.send(message.encode('utf-8'))\n",
    "\n",
    "class ChatClient(QMainWindow):\n",
    "    def __init__(self, host='localhost', port=12345):\n",
    "        super().__init__()\n",
    "        self.username, ok = QInputDialog.getText(self, 'Username', 'Enter your username:')\n",
    "        if ok:\n",
    "            self.initUI()\n",
    "            self.client_thread = ClientThread(self.username, host, port)\n",
    "            self.client_thread.message_received.connect(self.receive_message)\n",
    "            self.client_thread.start()\n",
    "\n",
    "    def initUI(self):\n",
    "        self.setGeometry(300, 300, 400, 500)\n",
    "        self.setWindowTitle(f'Chat Client - {self.username}')\n",
    "        \n",
    "        self.chat_display = QTextEdit(self)\n",
    "        self.chat_display.setReadOnly(True)\n",
    "        \n",
    "        self.message_input = QLineEdit(self)\n",
    "        self.message_input.setPlaceholderText('Type your message here...')\n",
    "        \n",
    "        self.send_button = QPushButton('Send', self)\n",
    "        self.send_button.clicked.connect(self.send_message)\n",
    "        \n",
    "        layout = QVBoxLayout()\n",
    "        layout.addWidget(self.chat_display)\n",
    "        layout.addWidget(self.message_input)\n",
    "        layout.addWidget(self.send_button)\n",
    "        \n",
    "        container = QWidget()\n",
    "        container.setLayout(layout)\n",
    "        \n",
    "        self.setCentralWidget(container)\n",
    "        self.show()\n",
    "    \n",
    "    def send_message(self):\n",
    "        message = self.message_input.text()\n",
    "        if message:\n",
    "            self.client_thread.send_message(message)\n",
    "            self.message_input.clear()\n",
    "            self.chat_display.append(f\"You: {message}\")\n",
    "    \n",
    "    def receive_message(self, message):\n",
    "        if message.startswith(f\"{self.username}:\"):\n",
    "            # Display it as 'You' if the message is from the current user\n",
    "            self.chat_display.append(message.replace(f\"{self.username}:\", \"You:\"))\n",
    "        else:\n",
    "            # Message from another user\n",
    "            self.chat_display.append(message)\n",
    "\n",
    "# Run the client\n",
    "app = QApplication(sys.argv)\n",
    "client = ChatClient()\n",
    "sys.exit(app.exec_())\n"
   ]
  },
  {
   "cell_type": "code",
   "execution_count": null,
   "id": "56ea8e5c-3b75-42f6-be53-f07e02668b62",
   "metadata": {},
   "outputs": [],
   "source": []
  }
 ],
 "metadata": {
  "kernelspec": {
   "display_name": "Python 3 (ipykernel)",
   "language": "python",
   "name": "python3"
  },
  "language_info": {
   "codemirror_mode": {
    "name": "ipython",
    "version": 3
   },
   "file_extension": ".py",
   "mimetype": "text/x-python",
   "name": "python",
   "nbconvert_exporter": "python",
   "pygments_lexer": "ipython3",
   "version": "3.11.7"
  }
 },
 "nbformat": 4,
 "nbformat_minor": 5
}
