{
 "cells": [
  {
   "cell_type": "code",
   "execution_count": 5,
   "id": "12602d6d-12ee-4ebd-8356-07d2bacac360",
   "metadata": {},
   "outputs": [],
   "source": [
    "import socket\n",
    "import threading\n"
   ]
  },
  {
   "cell_type": "code",
   "execution_count": 7,
   "id": "f3b2dfc8-196e-4b44-824d-d615b77a4f96",
   "metadata": {},
   "outputs": [
    {
     "name": "stdout",
     "output_type": "stream",
     "text": [
      "Server started on localhost:12345\n",
      "New connection: ('127.0.0.1', 60695)\n",
      "New connection: ('127.0.0.1', 60748)\n",
      "New connection: ('127.0.0.1', 60860)\n",
      "New connection: ('127.0.0.1', 60910)\n"
     ]
    }
   ],
   "source": [
    "class ChatServer:\n",
    "    def __init__(self, host='localhost', port=12345):\n",
    "        self.server = socket.socket(socket.AF_INET, socket.SOCK_STREAM)\n",
    "        self.server.setsockopt(socket.SOL_SOCKET, socket.SO_REUSEADDR, 1)\n",
    "        self.server.bind((host, port))\n",
    "        self.server.listen(5)\n",
    "        print(f\"Server started on {host}:{port}\")\n",
    "        self.clients = {}\n",
    "        self.usernames = {}\n",
    "        self.message_history = []\n",
    "\n",
    "    def broadcast(self, message, sender_socket=None, exclude_sender=False):\n",
    "        for client, username in self.clients.items():\n",
    "            if exclude_sender and client == sender_socket:\n",
    "                continue\n",
    "            try:\n",
    "                client.send(message)\n",
    "            except:\n",
    "                self.remove_client(client)\n",
    "\n",
    "    def send_private_message(self, message, recipient_username):\n",
    "        recipient_socket = None\n",
    "        for client, username in self.clients.items():\n",
    "            if username == recipient_username:\n",
    "                recipient_socket = client\n",
    "                break\n",
    "        if recipient_socket:\n",
    "            try:\n",
    "                recipient_socket.send(message)\n",
    "            except:\n",
    "                self.remove_client(recipient_socket)\n",
    "\n",
    "    def handle_client(self, client_socket):\n",
    "        username = client_socket.recv(1024).decode('utf-8')\n",
    "        self.clients[client_socket] = username\n",
    "        self.usernames[username] = client_socket\n",
    "        self.broadcast(f\"{username} has joined the chat.\".encode('utf-8'), exclude_sender=True)\n",
    "        \n",
    "        for msg in self.message_history:\n",
    "            client_socket.send(msg)\n",
    "\n",
    "        while True:\n",
    "            try:\n",
    "                message = client_socket.recv(1024)\n",
    "                if message:\n",
    "                    decoded_message = message.decode('utf-8')\n",
    "                    if decoded_message.startswith('/pm'):\n",
    "                        _, recipient, pm_message = decoded_message.split(' ', 2)\n",
    "                        self.send_private_message(f\"[PM from {username}] {pm_message}\".encode('utf-8'), recipient)\n",
    "                    else:\n",
    "                        formatted_message = f\"{username}: {decoded_message}\".encode('utf-8')\n",
    "                        self.message_history.append(formatted_message)\n",
    "                        if len(self.message_history) > 10:\n",
    "                            self.message_history.pop(0)\n",
    "                        self.broadcast(formatted_message)\n",
    "            except:\n",
    "                self.remove_client(client_socket)\n",
    "                break\n",
    "\n",
    "    def remove_client(self, client_socket):\n",
    "        if client_socket in self.clients:\n",
    "            username = self.clients[client_socket]\n",
    "            del self.clients[client_socket]\n",
    "            del self.usernames[username]\n",
    "            self.broadcast(f\"{username} has left the chat.\".encode('utf-8'))\n",
    "            client_socket.close()\n",
    "\n",
    "    def run(self):\n",
    "        while True:\n",
    "            client_socket, client_address = self.server.accept()\n",
    "            print(f\"New connection: {client_address}\")\n",
    "            threading.Thread(target=self.handle_client, args=(client_socket,)).start()\n",
    "\n",
    "# Start the server\n",
    "server = ChatServer()\n",
    "threading.Thread(target=server.run).start()"
   ]
  },
  {
   "cell_type": "code",
   "execution_count": null,
   "id": "06fbafb6-425e-4708-8617-4f7a8eeb0e4a",
   "metadata": {},
   "outputs": [],
   "source": []
  }
 ],
 "metadata": {
  "kernelspec": {
   "display_name": "Python 3 (ipykernel)",
   "language": "python",
   "name": "python3"
  },
  "language_info": {
   "codemirror_mode": {
    "name": "ipython",
    "version": 3
   },
   "file_extension": ".py",
   "mimetype": "text/x-python",
   "name": "python",
   "nbconvert_exporter": "python",
   "pygments_lexer": "ipython3",
   "version": "3.11.7"
  }
 },
 "nbformat": 4,
 "nbformat_minor": 5
}
